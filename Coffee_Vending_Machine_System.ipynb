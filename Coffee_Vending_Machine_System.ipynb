{
 "cells": [
  {
   "cell_type": "markdown",
   "id": "94044fd8",
   "metadata": {},
   "source": [
    "## Virtual Coffee Machine Project :-\n",
    "* This machine will ask coffee type(Cappuccino,Espresso,Latte).choice & accepts Rs.5, Rs.10, Rs.20 coins."
   ]
  },
  {
   "cell_type": "code",
   "execution_count": 4,
   "id": "8c1aeb50",
   "metadata": {},
   "outputs": [
    {
     "name": "stdout",
     "output_type": "stream",
     "text": [
      "What would you like to have? (Cappuccino/Espresso/Latte):latte\n",
      "{'ingredients': {'water': 200, 'milk': 150, 'coffee': 24}, 'cost': 150}\n",
      "please insert coins\n",
      "How many Rs.5 coins: 10\n",
      "How many Rs.10 coins: 10\n",
      "How many Rs.20 coins: 10\n",
      "Here is your Rs.200 in change.\n",
      "Here is your latte ☕ Enjoy!!\n",
      "What would you like to have? (Cappuccino/Espresso/Latte):report\n",
      "water=300ml\n",
      "milk=50ml\n",
      "coffee=76g\n",
      "money= Rs.150\n",
      "What would you like to have? (Cappuccino/Espresso/Latte):off\n"
     ]
    }
   ],
   "source": [
    "Menu= {\"latte\":{\"ingredients\":{\"water\": 200, \"milk\":150, \"coffee\":24},\"cost\": 150},\n",
    "       \"cappuccino\":{\"ingredients\":{\"water\": 250, \"milk\":100, \"coffee\":24},\"cost\": 200},\n",
    "       \"espresso\":{\"ingredients\":{\"water\": 50, \"coffee\":18},\"cost\": 100}\n",
    "      }\n",
    "profit= 0                                              # right now no customer pays for coffee\n",
    "resources= {\"water\": 500, \"milk\":200, \"coffee\":100}    # This data is global given to make coffee.\n",
    "\n",
    "def check_resources(order_ingredients):\n",
    "    for item in order_ingredients:                       # {\"water\": 200, \"milk\":150, \"coffee\":24}\n",
    "        if order_ingredients[item]> resources[item]:\n",
    "            print(f\"Sorry there is not enough {item}\")\n",
    "            return False\n",
    "    return True\n",
    "\n",
    "def process_coins():\n",
    "    print(\"please insert coins\")\n",
    "    total=0\n",
    "    num1= int(input(\"How many Rs.5 coins: \"))\n",
    "    num2= int(input(\"How many Rs.10 coins: \"))\n",
    "    num3= int(input(\"How many Rs.20 coins: \"))\n",
    "    \n",
    "    total= num1*5+ num2*10 +num3*20\n",
    "    return total\n",
    "\n",
    "def is_payment_successful(money_received,coffee_cost):\n",
    "    if money_received >= coffee_cost:            \n",
    "        global profit                                 # here we make changes in global var Profit\n",
    "        profit+= coffee_cost\n",
    "        change= money_received- coffee_cost\n",
    "        print(f\"Here is your Rs.{change} in change.\")\n",
    "        return True\n",
    "    else:\n",
    "        print(\"Sorry that's not enough money, Money Refunded.\")\n",
    "        return False\n",
    "def make_coffee(coffee_name ,order_ingredients):\n",
    "    for item in order_ingredients:                   # let {\"water\": 200, \"milk\":150, \"coffee\":24}\n",
    "        resources[item] =resources[item]- order_ingredients[item]\n",
    "    print(f\"Here is your {coffee_name} ☕ Enjoy!!\")\n",
    "        \n",
    "machine_on= True\n",
    "while machine_on: \n",
    "    choice= input(\"What would you like to have? (Cappuccino/Espresso/Latte):\").lower()\n",
    "    if choice== 'off':\n",
    "        machine_on= False\n",
    "    elif choice== 'report':\n",
    "        print(f\"water={resources['water']}ml\")\n",
    "        print(f\"milk={resources['milk']}ml\")\n",
    "        print(f\"coffee={resources['coffee']}g\")\n",
    "        print(f\"money= Rs.{profit}\")\n",
    "    else:\n",
    "        coffee_type= Menu[choice]\n",
    "        print(coffee_type)\n",
    "        if check_resources(coffee_type['ingredients']):        # create func. to check ingredients\n",
    "            payment= process_coins()                  # how much money that person give for coffee\n",
    "            if is_payment_successful(payment,coffee_type['cost']):        # if True: going to loop\n",
    "                make_coffee(choice ,coffee_type['ingredients'])\n",
    "    "
   ]
  },
  {
   "cell_type": "code",
   "execution_count": null,
   "id": "7b0272a7",
   "metadata": {},
   "outputs": [],
   "source": []
  }
 ],
 "metadata": {
  "kernelspec": {
   "display_name": "Python 3 (ipykernel)",
   "language": "python",
   "name": "python3"
  },
  "language_info": {
   "codemirror_mode": {
    "name": "ipython",
    "version": 3
   },
   "file_extension": ".py",
   "mimetype": "text/x-python",
   "name": "python",
   "nbconvert_exporter": "python",
   "pygments_lexer": "ipython3",
   "version": "3.11.4"
  }
 },
 "nbformat": 4,
 "nbformat_minor": 5
}
